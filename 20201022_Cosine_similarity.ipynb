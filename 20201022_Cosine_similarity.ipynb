{
 "cells": [
  {
   "cell_type": "markdown",
   "metadata": {},
   "source": [
    "# 코사인 유사도\n",
    "- word2vec 에서 사용하고 있는 유사도 계산 방식\n",
    "- 다른 방향 : -1 / 같은 방향 : 1 / 직각 : 0"
   ]
  },
  {
   "cell_type": "code",
   "execution_count": 2,
   "metadata": {},
   "outputs": [],
   "source": [
    "# 선언\n",
    "import numpy as np\n",
    "from numpy.linalg import norm\n",
    "from numpy import dot"
   ]
  },
  {
   "cell_type": "code",
   "execution_count": 3,
   "metadata": {},
   "outputs": [],
   "source": [
    "# 함수 정의\n",
    "def cos_sim(A, B):\n",
    "    return dot(A, B)/(norm(A)*norm(B))"
   ]
  },
  {
   "cell_type": "markdown",
   "metadata": {},
   "source": [
    "- p1 : 저는 사과 좋아요\n",
    "- p2 : 저는 바나나 좋아요\n",
    "- p3 : 저는 바나나 좋아요 저는 바나나 좋아요\n",
    "> 배열 순서 : 바나나, 사과, 저는, 좋아요"
   ]
  },
  {
   "cell_type": "code",
   "execution_count": 4,
   "metadata": {},
   "outputs": [],
   "source": [
    "p1 = np.array([0,1,1,1])\n",
    "p2 = np.array([1,0,1,1])\n",
    "p3 = np.array([2,0,2,2])\n",
    "p4 = np.array([1,1,1,1])\n",
    "p5 = np.array([1,0,1,1])"
   ]
  },
  {
   "cell_type": "code",
   "execution_count": 5,
   "metadata": {},
   "outputs": [
    {
     "name": "stdout",
     "output_type": "stream",
     "text": [
      "0.6666666666666667\n"
     ]
    }
   ],
   "source": [
    "print(cos_sim(p1,p2)) # 반 불일치"
   ]
  },
  {
   "cell_type": "code",
   "execution_count": 6,
   "metadata": {},
   "outputs": [
    {
     "name": "stdout",
     "output_type": "stream",
     "text": [
      "0.6666666666666667\n"
     ]
    }
   ],
   "source": [
    "print(cos_sim(p1,p3)) # 반 불일치"
   ]
  },
  {
   "cell_type": "code",
   "execution_count": 7,
   "metadata": {},
   "outputs": [
    {
     "name": "stdout",
     "output_type": "stream",
     "text": [
      "1.0000000000000002\n"
     ]
    }
   ],
   "source": [
    "print(cos_sim(p2,p3)) # 완전 일치 (가중치가 많아도 1이 최대)"
   ]
  },
  {
   "cell_type": "code",
   "execution_count": 8,
   "metadata": {},
   "outputs": [
    {
     "name": "stdout",
     "output_type": "stream",
     "text": [
      "0.8660254037844387\n"
     ]
    }
   ],
   "source": [
    "print(cos_sim(p2,p4)) # 4개중 1개만 불일치"
   ]
  },
  {
   "cell_type": "code",
   "execution_count": 9,
   "metadata": {},
   "outputs": [
    {
     "name": "stdout",
     "output_type": "stream",
     "text": [
      "1.0000000000000002\n"
     ]
    }
   ],
   "source": [
    "print(cos_sim(p2,p5)) # 완전 일치"
   ]
  },
  {
   "cell_type": "markdown",
   "metadata": {},
   "source": [
    "# 단어 사전 데이터를 이용한 의미가 유사한 단어 찾기\n",
    "- kaggle : https://www.kaggle.com/borrkk/dictionary?select=dictionary.json"
   ]
  },
  {
   "cell_type": "code",
   "execution_count": 32,
   "metadata": {},
   "outputs": [],
   "source": [
    "# 데이터 다루는 용도\n",
    "import pandas as pd\n",
    "import json\n",
    "\n",
    "# 단어 처리\n",
    "from sklearn.feature_extraction.text import TfidfVectorizer\n",
    "\n",
    "# 각 행과의 코사인 유사도 계산 \n",
    "from sklearn.metrics.pairwise import linear_kernel"
   ]
  },
  {
   "cell_type": "code",
   "execution_count": 3,
   "metadata": {},
   "outputs": [
    {
     "data": {
      "text/html": [
       "<div>\n",
       "<style scoped>\n",
       "    .dataframe tbody tr th:only-of-type {\n",
       "        vertical-align: middle;\n",
       "    }\n",
       "\n",
       "    .dataframe tbody tr th {\n",
       "        vertical-align: top;\n",
       "    }\n",
       "\n",
       "    .dataframe thead th {\n",
       "        text-align: right;\n",
       "    }\n",
       "</style>\n",
       "<table border=\"1\" class=\"dataframe\">\n",
       "  <thead>\n",
       "    <tr style=\"text-align: right;\">\n",
       "      <th></th>\n",
       "      <th>word</th>\n",
       "      <th>mean</th>\n",
       "    </tr>\n",
       "  </thead>\n",
       "  <tbody>\n",
       "    <tr>\n",
       "      <th>0</th>\n",
       "      <td>abandoned industrial site</td>\n",
       "      <td>[Site that cannot be used for any purpose, bei...</td>\n",
       "    </tr>\n",
       "    <tr>\n",
       "      <th>1</th>\n",
       "      <td>abandoned vehicle</td>\n",
       "      <td>[A vehicle that has been discarded in the envi...</td>\n",
       "    </tr>\n",
       "    <tr>\n",
       "      <th>2</th>\n",
       "      <td>abiotic factor</td>\n",
       "      <td>[Physical, chemical and other non-living envir...</td>\n",
       "    </tr>\n",
       "    <tr>\n",
       "      <th>3</th>\n",
       "      <td>access road</td>\n",
       "      <td>[Any street or narrow stretch of paved surface...</td>\n",
       "    </tr>\n",
       "    <tr>\n",
       "      <th>4</th>\n",
       "      <td>access to the sea</td>\n",
       "      <td>[The ability to bring goods to and from a port...</td>\n",
       "    </tr>\n",
       "    <tr>\n",
       "      <th>5</th>\n",
       "      <td>accident</td>\n",
       "      <td>[An unexpected, unfortunate mishap, failure or...</td>\n",
       "    </tr>\n",
       "    <tr>\n",
       "      <th>6</th>\n",
       "      <td>accumulator</td>\n",
       "      <td>[A rechargeable device for storing electrical ...</td>\n",
       "    </tr>\n",
       "    <tr>\n",
       "      <th>7</th>\n",
       "      <td>acidification</td>\n",
       "      <td>[Addition of an acid to a solution until the p...</td>\n",
       "    </tr>\n",
       "    <tr>\n",
       "      <th>8</th>\n",
       "      <td>acidity</td>\n",
       "      <td>[The state of being acid that is of being capa...</td>\n",
       "    </tr>\n",
       "    <tr>\n",
       "      <th>9</th>\n",
       "      <td>acidity degree</td>\n",
       "      <td>[The amount of acid present in a solution, oft...</td>\n",
       "    </tr>\n",
       "  </tbody>\n",
       "</table>\n",
       "</div>"
      ],
      "text/plain": [
       "                        word  \\\n",
       "0  abandoned industrial site   \n",
       "1          abandoned vehicle   \n",
       "2             abiotic factor   \n",
       "3                access road   \n",
       "4          access to the sea   \n",
       "5                   accident   \n",
       "6                accumulator   \n",
       "7              acidification   \n",
       "8                    acidity   \n",
       "9             acidity degree   \n",
       "\n",
       "                                                mean  \n",
       "0  [Site that cannot be used for any purpose, bei...  \n",
       "1  [A vehicle that has been discarded in the envi...  \n",
       "2  [Physical, chemical and other non-living envir...  \n",
       "3  [Any street or narrow stretch of paved surface...  \n",
       "4  [The ability to bring goods to and from a port...  \n",
       "5  [An unexpected, unfortunate mishap, failure or...  \n",
       "6  [A rechargeable device for storing electrical ...  \n",
       "7  [Addition of an acid to a solution until the p...  \n",
       "8  [The state of being acid that is of being capa...  \n",
       "9  [The amount of acid present in a solution, oft...  "
      ]
     },
     "execution_count": 3,
     "metadata": {},
     "output_type": "execute_result"
    }
   ],
   "source": [
    "# 파일 읽기\n",
    "with open('dictionary.json', 'r') as fr:\n",
    "    json_data = json.load(fr)\n",
    "\n",
    "df = pd.DataFrame(data=[json_data.keys(), json_data.values()]).T\n",
    "df.columns=['word','mean']\n",
    "\n",
    "# 메모리 부족하다고 나와서.. 만개만 사용\n",
    "df = df.head(10000)\n",
    "df.head(10)"
   ]
  },
  {
   "cell_type": "code",
   "execution_count": 5,
   "metadata": {},
   "outputs": [],
   "source": [
    "# 문자 제거\n",
    "for i in range(df.shape[0]):\n",
    "    df['mean'][i] = str(df['mean'][i]).replace('[','')\n",
    "    df['mean'][i] = str(df['mean'][i]).replace(']','')"
   ]
  },
  {
   "cell_type": "code",
   "execution_count": 7,
   "metadata": {},
   "outputs": [
    {
     "data": {
      "text/plain": [
       "(10000, 2)"
      ]
     },
     "execution_count": 7,
     "metadata": {},
     "output_type": "execute_result"
    }
   ],
   "source": [
    "df.shape"
   ]
  },
  {
   "cell_type": "code",
   "execution_count": 9,
   "metadata": {},
   "outputs": [
    {
     "data": {
      "text/plain": [
       "0"
      ]
     },
     "execution_count": 9,
     "metadata": {},
     "output_type": "execute_result"
    }
   ],
   "source": [
    "# null 값 확인\n",
    "df['mean'].isnull().sum()\n",
    "\n",
    "# null 이 있다면 제거\n",
    "#data['mean'] = data['mean'].fillna('')"
   ]
  },
  {
   "cell_type": "code",
   "execution_count": 11,
   "metadata": {},
   "outputs": [
    {
     "name": "stdout",
     "output_type": "stream",
     "text": [
      "(10000, 15487)\n"
     ]
    }
   ],
   "source": [
    "# 백터 라이저 정의(단어 학습 용도)\n",
    "# - stop_words='english' 불용어(의미가 없는 단어나 조사) 제거\n",
    "tfidf_vectorizer = TfidfVectorizer(stop_words='english')\n",
    "tfidf_matrix = tfidf_vectorizer.fit_transform(df['mean']) # 학습\n",
    "print(tfidf_matrix.shape) # 10000 행에 15487 단어가 있다."
   ]
  },
  {
   "cell_type": "code",
   "execution_count": 15,
   "metadata": {},
   "outputs": [
    {
     "data": {
      "text/plain": [
       "array([[1., 0., 0., ..., 0., 0., 0.],\n",
       "       [0., 1., 0., ..., 0., 0., 0.],\n",
       "       [0., 0., 1., ..., 0., 0., 0.],\n",
       "       ...,\n",
       "       [0., 0., 0., ..., 1., 0., 0.],\n",
       "       [0., 0., 0., ..., 0., 1., 0.],\n",
       "       [0., 0., 0., ..., 0., 0., 1.]])"
      ]
     },
     "execution_count": 15,
     "metadata": {},
     "output_type": "execute_result"
    }
   ],
   "source": [
    "# 각 행과의 코사인 유사도 계산 (1은 일치)\n",
    "cosine_sim = linear_kernel(tfidf_matrix, tfidf_matrix)\n",
    "cosine_sim"
   ]
  },
  {
   "cell_type": "code",
   "execution_count": 18,
   "metadata": {},
   "outputs": [
    {
     "name": "stdout",
     "output_type": "stream",
     "text": [
      "word\n",
      "abandoned industrial site    0\n",
      "abandoned vehicle            1\n",
      "abiotic factor               2\n",
      "access road                  3\n",
      "access to the sea            4\n",
      "dtype: int64\n"
     ]
    }
   ],
   "source": [
    "# 단어별 인덱스 저장\n",
    "indices = pd.Series(df.index, index=df['word'])\n",
    "print(indices.head())"
   ]
  },
  {
   "cell_type": "code",
   "execution_count": 19,
   "metadata": {},
   "outputs": [
    {
     "name": "stdout",
     "output_type": "stream",
     "text": [
      "3\n"
     ]
    }
   ],
   "source": [
    "idx = indices['access road']\n",
    "print(idx)"
   ]
  },
  {
   "cell_type": "code",
   "execution_count": 45,
   "metadata": {},
   "outputs": [],
   "source": [
    "# 코사인 유사도 기반 비슷한 단어 추출\n",
    "def get_recommendations(word, cosine_sim=cosine_sim):\n",
    "    # 단어의 인덱스 추출\n",
    "    idx = indices[word]\n",
    "\n",
    "    # 단어와 다른 단어와의 유사값을 list로 표현 \n",
    "    # [(0, 0.9999999999999998),\n",
    "    # (1, 0.0),...\n",
    "    # (2, 0.0)]\n",
    "    sim_scores = list(enumerate(cosine_sim[idx]))\n",
    "\n",
    "    # 유사도가 높은 순으로 정렬 (sim_scores 의 2번째 행 기준으로 정렬 / reverse=True 내림차순)\n",
    "    sim_scores = sorted(sim_scores, key=lambda x: x[1], reverse=True)\n",
    "\n",
    "    # 자기 자신을 제외한 가장 유사한 단어 10개 추출\n",
    "    sim_scores = sim_scores[1:11]\n",
    "\n",
    "    # 가장 유사한 단어의 index 추출\n",
    "    word_index = [i[0] for i in sim_scores]\n",
    "\n",
    "    # 가장 유사한 10개의 단어 리턴\n",
    "    return df['word'].iloc[word_index]"
   ]
  },
  {
   "cell_type": "code",
   "execution_count": 51,
   "metadata": {},
   "outputs": [
    {
     "data": {
      "text/plain": [
       "1624                 ocean\n",
       "2084       sea circulation\n",
       "5735             largeness\n",
       "444                  coast\n",
       "1159               iceberg\n",
       "7648        landlocked sea\n",
       "9942                marine\n",
       "1244       intertidal zone\n",
       "7647    landlocked country\n",
       "306         brackish water\n",
       "Name: word, dtype: object"
      ]
     },
     "execution_count": 51,
     "metadata": {},
     "output_type": "execute_result"
    }
   ],
   "source": [
    "# 바다 유사값 : 대양, 바다 순환, 위대함, 연안, 빙산, 내륙 바다\n",
    "get_recommendations('sea')"
   ]
  }
 ],
 "metadata": {
  "kernelspec": {
   "display_name": "Python 3",
   "language": "python",
   "name": "python3"
  },
  "language_info": {
   "codemirror_mode": {
    "name": "ipython",
    "version": 3
   },
   "file_extension": ".py",
   "mimetype": "text/x-python",
   "name": "python",
   "nbconvert_exporter": "python",
   "pygments_lexer": "ipython3",
   "version": "3.7.7"
  }
 },
 "nbformat": 4,
 "nbformat_minor": 4
}
