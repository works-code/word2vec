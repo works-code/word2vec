{
 "cells": [
  {
   "cell_type": "markdown",
   "metadata": {},
   "source": [
    "# [장바구니에 담은 상품 데이터를 활용하여 사용자에게 상품 추천]"
   ]
  },
  {
   "cell_type": "markdown",
   "metadata": {
    "id": "vECA7znRGxut"
   },
   "source": [
    "## 라이브러리 정의"
   ]
  },
  {
   "cell_type": "code",
   "execution_count": 339,
   "metadata": {
    "id": "1dNV8NnwGwYS"
   },
   "outputs": [],
   "source": [
    "# 단어 임베딩\n",
    "from gensim.models import Word2Vec\n",
    "\n",
    "# View\n",
    "from matplotlib import rc\n",
    "import matplotlib.pyplot as plt\n",
    "from sklearn.decomposition import PCA"
   ]
  },
  {
   "cell_type": "markdown",
   "metadata": {},
   "source": [
    "## 함수, 데이터 정의"
   ]
  },
  {
   "cell_type": "code",
   "execution_count": 340,
   "metadata": {
    "id": "WLGZAetF-47j"
   },
   "outputs": [],
   "source": [
    "# 그래프 그려주는 함수\n",
    "def plot_2d_graph(vocabs, xs, ys):\n",
    "    rc('font', family='AppleGothic')\n",
    "    plt.rcParams['axes.unicode_minus'] = False\n",
    "    plt.figure(figsize=(8 ,6))\n",
    "    plt.scatter(xs, ys, marker = 'o')\n",
    "    for i, v in enumerate(vocabs):\n",
    "        plt.annotate(v, xy=(xs[i], ys[i]))"
   ]
  },
  {
   "cell_type": "code",
   "execution_count": 360,
   "metadata": {
    "id": "XHUhW1EO7lWF"
   },
   "outputs": [],
   "source": [
    "# 장바구니 데이터 정의 (한줄이 하나의 장바구니 데이터)\n",
    "data = [\n",
    "          ['딸기쨈','식빵','양배추','마요네즈','케찹'],\n",
    "          ['포도쩀','식빵','양배추','마요네즈','케찹'],\n",
    "          ['식빵','계란','양상추','케찹','베이컨'],\n",
    "          ['돼지고기','집계','상추','쌈장','파'],\n",
    "          ['소고기','집계','배추','소금','파'],\n",
    "          ['단무지','맛살','김','쌀','햄'],\n",
    "          ['김','쌀','단무지','햄','우엉']\n",
    "      ]"
   ]
  },
  {
   "cell_type": "markdown",
   "metadata": {},
   "source": [
    "## 단어 임베딩"
   ]
  },
  {
   "cell_type": "code",
   "execution_count": 361,
   "metadata": {
    "id": "PYc0Qw0p6reH"
   },
   "outputs": [],
   "source": [
    "# size : 벡터 차원\n",
    "# window : 주변 단어 수 (앞 뒤로 4 단어 씩)\n",
    "# min_count : 50번 미만 단어는 분석에서 제외 \n",
    "# iter : 5000회 반복 학습\n",
    "# sg : 모델 (0: CBOW | 1: skip-gram)\n",
    "# workers : 동시에 처리할 작업 수\n",
    "model = Word2Vec(data, size=300, window=4, min_count=1, iter=5000, sg=1, workers=4)"
   ]
  },
  {
   "cell_type": "code",
   "execution_count": 362,
   "metadata": {
    "id": "jTAFJOKQ8cI3"
   },
   "outputs": [],
   "source": [
    "# 단어의 벡터를 구한다.\n",
    "word_vectors = model.wv\n",
    "vocabs = word_vectors.vocab.keys()\n",
    "word_vectors_list = [word_vectors[v] for v in word_vectors.vocab.keys()]"
   ]
  },
  {
   "cell_type": "code",
   "execution_count": 363,
   "metadata": {
    "colab": {
     "base_uri": "https://localhost:8080/",
     "height": 88
    },
    "id": "rBapkkWs82m5",
    "outputId": "05e333d0-0551-4005-d9b5-a3e912c7e1a8"
   },
   "outputs": [
    {
     "name": "stdout",
     "output_type": "stream",
     "text": [
      "0.30263782\n"
     ]
    }
   ],
   "source": [
    "# 두 단어의 유사도 \n",
    "print(word_vectors.similarity(w1='식빵', w2='김'))"
   ]
  },
  {
   "cell_type": "code",
   "execution_count": 364,
   "metadata": {},
   "outputs": [
    {
     "name": "stdout",
     "output_type": "stream",
     "text": [
      "0.9846972\n"
     ]
    }
   ],
   "source": [
    "# 두 단어의 유사도\n",
    "print(word_vectors.similarity(w1='돼지고기', w2='배추'))"
   ]
  },
  {
   "cell_type": "code",
   "execution_count": 365,
   "metadata": {},
   "outputs": [
    {
     "data": {
      "text/plain": [
       "[('포도쩀', 0.9988817572593689),\n",
       " ('마요네즈', 0.9984250068664551),\n",
       " ('케찹', 0.9979124069213867),\n",
       " ('딸기쨈', 0.9964978098869324),\n",
       " ('계란', 0.9810994863510132),\n",
       " ('베이컨', 0.9800444841384888),\n",
       " ('양상추', 0.9776391983032227),\n",
       " ('쌀', 0.3006083369255066),\n",
       " ('김', 0.2924817204475403),\n",
       " ('햄', 0.2912694215774536)]"
      ]
     },
     "execution_count": 365,
     "metadata": {},
     "output_type": "execute_result"
    }
   ],
   "source": [
    "# 식빵이랑 양배추를 산사람에게 추천할 상품은 ?\n",
    "word_vectors.most_similar(positive=['식빵', '양배추'])"
   ]
  },
  {
   "cell_type": "code",
   "execution_count": 367,
   "metadata": {},
   "outputs": [
    {
     "data": {
      "text/plain": [
       "[('쌀', 0.99942946434021),\n",
       " ('맛살', 0.9993976354598999),\n",
       " ('우엉', 0.9991198182106018),\n",
       " ('단무지', 0.9990296959877014),\n",
       " ('햄', 0.9989983439445496),\n",
       " ('배추', 0.3499002754688263),\n",
       " ('파', 0.34812408685684204),\n",
       " ('집계', 0.3456333875656128),\n",
       " ('돼지고기', 0.3435102701187134),\n",
       " ('소고기', 0.3430193364620209)]"
      ]
     },
     "execution_count": 367,
     "metadata": {},
     "output_type": "execute_result"
    }
   ],
   "source": [
    "# 김을 산사람에게 추천할 상품은 ?\n",
    "word_vectors.most_similar(positive=['김'])"
   ]
  },
  {
   "cell_type": "markdown",
   "metadata": {},
   "source": [
    "## 그래프"
   ]
  },
  {
   "cell_type": "code",
   "execution_count": 368,
   "metadata": {
    "colab": {
     "base_uri": "https://localhost:8080/",
     "height": 1000
    },
    "id": "BseeC1aF93QE",
    "outputId": "154309e1-6598-4d8f-f0e9-c222b84ec3e5"
   },
   "outputs": [
    {
     "data": {
      "image/png": "[encoded data removed]",
      "text/plain": [
       "<Figure size 576x432 with 1 Axes>"
      ]
     },
     "metadata": {
      "needs_background": "light"
     },
     "output_type": "display_data"
    }
   ],
   "source": [
    "# 그래프 그리기\n",
    "pca = PCA(n_components=2)\n",
    "xys = pca.fit_transform(word_vectors_list)\n",
    "xs = xys[:,0]\n",
    "ys = xys[:,1]\n",
    "plot_2d_graph(vocabs, xs, ys)"
   ]
  },
  {
   "cell_type": "code",
   "execution_count": 369,
   "metadata": {},
   "outputs": [],
   "source": [
    "# 최종 모델을 저장한다.\n",
    "model.save('word2vec.model')"
   ]
  },
  {
   "cell_type": "code",
   "execution_count": 370,
   "metadata": {},
   "outputs": [],
   "source": [
    "# 저장한 모델을 읽어서 이용한다.\n",
    "model = Word2Vec.load('word2vec.model')"
   ]
  },
  {
   "cell_type": "code",
   "execution_count": 378,
   "metadata": {},
   "outputs": [
    {
     "data": {
      "text/plain": [
       "[('소금', 0.9993100762367249),\n",
       " ('배추', 0.999143660068512),\n",
       " ('집계', 0.9960213303565979),\n",
       " ('파', 0.9958965182304382),\n",
       " ('돼지고기', 0.9858182668685913),\n",
       " ('쌈장', 0.9850137233734131),\n",
       " ('상추', 0.984910786151886),\n",
       " ('쌀', 0.3511732220649719),\n",
       " ('김', 0.3430192768573761),\n",
       " ('맛살', 0.33959776163101196)]"
      ]
     },
     "execution_count": 378,
     "metadata": {},
     "output_type": "execute_result"
    }
   ],
   "source": [
    "# 소고기를 산사람에게 추천할 상품은 ?\n",
    "word_vectors.most_similar(positive=['소고기'])"
   ]
  },
  {
   "cell_type": "code",
   "execution_count": null,
   "metadata": {},
   "outputs": [],
   "source": []
  }
 ],
 "metadata": {
  "colab": {
   "collapsed_sections": [],
   "name": "20201018_Word2vec.ipynb",
   "provenance": []
  },
  "kernelspec": {
   "display_name": "Python 3",
   "language": "python",
   "name": "python3"
  },
  "language_info": {
   "codemirror_mode": {
    "name": "ipython",
    "version": 3
   },
   "file_extension": ".py",
   "mimetype": "text/x-python",
   "name": "python",
   "nbconvert_exporter": "python",
   "pygments_lexer": "ipython3",
   "version": "3.7.7"
  }
 },
 "nbformat": 4,
 "nbformat_minor": 1
}